{
 "cells": [
  {
   "cell_type": "markdown",
   "id": "super-suspension",
   "metadata": {},
   "source": [
    "# Python for data analysis and visualisation\n",
    "\n",
    "## Online short course at the University of St Andrews\n",
    "\n",
    "## Final assignment\n",
    "\n",
    "### [Ryan Stuart]"
   ]
  },
  {
   "cell_type": "markdown",
   "id": "38017d60-8203-4de0-b37b-b6b0c4b746a6",
   "metadata": {},
   "source": [
    "## Introduction\n",
    "All the basic requirements have been met and only the easy additional requirements. The only problem which was encountered was in creating the \n",
    "function: check_values_of_variables_are_admissible. This was overcome by converting the column dtypes into string. All of the source code in the refinedata script was my own apart from using [stackoverflow](https://stackoverflow.com/questions/37769435/understanding-python-map-function-range) to understand the map function.\n",
    "\n",
    "The reproducibility and reusability of my analysis should be to a high standard as the code has been organised into well-defined functions with docstrings and comments. Additionally, Git version control was used to manage and document changes containing a README.txt in the repository with instructions to reproduce my analysis."
   ]
  },
  {
   "cell_type": "code",
   "execution_count": null,
   "id": "8598663d-af55-4782-a540-77ccbe5a5c55",
   "metadata": {},
   "outputs": [],
   "source": [
    "import pandas as pd\n",
    "import matplotlib.pyplot as plt\n",
    "df = pd.read_csv('../data/Refined_Scotland_teaching_file_1PCT.csv')"
   ]
  },
  {
   "cell_type": "code",
   "execution_count": null,
   "id": "0cd63b94-116e-4a92-a7a5-6336bc35be19",
   "metadata": {},
   "outputs": [],
   "source": [
    "df"
   ]
  },
  {
   "cell_type": "markdown",
   "id": "ac6bbe9e-ea00-4ea4-89c4-b48021223505",
   "metadata": {},
   "source": [
    "The code written to check if the values of variables were of expected format was written by myself,\n",
    "The code to check their admissibility was achieved by reading through [stackoverlow](https://stackoverflow.com/) many others work and suggestions. As there was a TypeError: '>=' not supported between instances of 'str' and 'int' for some of the variables as they have an object dtype. as stated above in the Introduction."
   ]
  },
  {
   "cell_type": "markdown",
   "id": "8fa08629-7ba4-4fef-ba41-9dc867ef288a",
   "metadata": {},
   "source": [
    "## perform the descriptive analysis of the dataset:"
   ]
  },
  {
   "cell_type": "code",
   "execution_count": null,
   "id": "5fce75ba-d266-4333-81d0-dce16dab41b1",
   "metadata": {},
   "outputs": [],
   "source": [
    "def check_format(df):\n",
    "    \"\"\"\n",
    "    The check_format function reiterates the column dtypes.\n",
    "    \"\"\"\n",
    "    for column in df.columns:\n",
    "        if df[column].dtype == 'int64':\n",
    "            print(f\"{column}: integer\")\n",
    "        elif df[column].dtype == 'object':\n",
    "            print(f\"{column}: object\")\n",
    "        else:\n",
    "            print(f\"{column}: {df[column].dtype}\")\n",
    "\n",
    "check_format(df)"
   ]
  },
  {
   "cell_type": "markdown",
   "id": "07a6660d-6c84-49d5-927c-a093fb3f1c98",
   "metadata": {},
   "source": [
    "- The total number of records in the refined dataset are: 63388\n",
    "- All the different values for each variable and their occurence in **`DESCENDING ORDER`** (from left to right) in the refined dataset are:\n",
    "\n",
    "`RESIDENCE_TYPE:` \n",
    "**P:**      62239\n",
    "**C:**      1149\n",
    "\n",
    "`Family_Composition:`\n",
    "**1:**    33337\n",
    "**0:**    11716\n",
    "**4:**     7757\n",
    "**2:**    7660\n",
    "**X:**     1149\n",
    "**3:**     1019\n",
    "**5:**      750\n",
    "\n",
    "`sex:`\n",
    "**2:**    32696\n",
    "**1:**    30692\n",
    "\n",
    "`age:`\n",
    "**1:**    10980\n",
    "**5:**     9336\n",
    "**4:**     8963\n",
    "**3:**     8056\n",
    "**6:**     7854\n",
    "**2:**     7541\n",
    "**7:**     5731\n",
    "**8:**     4927\n",
    "\n",
    "`Marital_Status:`\n",
    "**1:**    29611\n",
    "**2:**    23918\n",
    "**4:**     4159\n",
    "**5:**     4032\n",
    "**3:**     1668\n",
    "\n",
    "`student:`\n",
    "**2:**    51397\n",
    "**1:**    11991\n",
    "\n",
    "`Country_Of_Birth:`\n",
    "**1:**    59045\n",
    "**2:**     4343\n",
    "\n",
    "`health:`\n",
    "**1:**    33436\n",
    "**2:**    18825\n",
    "**3:**     7544\n",
    "**4:**     2759\n",
    "**5:**      824\n",
    "\n",
    "`Ethnic_Group:`\n",
    "**1:**    60901\n",
    "**3:**     1667\n",
    "**4:**      376\n",
    "**2:**      199\n",
    "**6:**      165\n",
    "**5:**       80\n",
    "\n",
    "`religion:`\n",
    "**2:**    34199\n",
    "**1:**    23309\n",
    "**9:**     4335\n",
    "**6:**      906\n",
    "**4:**      187\n",
    "**8:**      162\n",
    "**7:**      116\n",
    "**3:**      113\n",
    "**5:**       61\n",
    "\n",
    "`Economic_Activity:`\n",
    "**1:**    25350\n",
    "**5:**    11527\n",
    "**X:**    10980\n",
    "**2:**     3623\n",
    "**6:**     2691\n",
    "**8:**     2543\n",
    "**3:**     2183\n",
    "**4:**     1743\n",
    "**7:**     1741\n",
    "**9:**     1007\n",
    "\n",
    "`Occupation:`\n",
    "**X:**    14435\n",
    "**9:**     7256\n",
    "**2:**     7237\n",
    "**5:**     6140\n",
    "**4:**     6010\n",
    "**3:**     5015\n",
    "**7:**     4934\n",
    "**6:**     4484\n",
    "**8:**     4327\n",
    "**1:**     3550\n",
    "\n",
    "`industry:`\n",
    "**X:**     14435\n",
    "**4:**      7557\n",
    "**11:**     6817\n",
    "**2:**      6318\n",
    "**8:**      4818\n",
    "**10:**     4123\n",
    "**3:**      3876\n",
    "**6:**      3754\n",
    "**5:**      3309\n",
    "**9:**      3225\n",
    "**7:**      1979\n",
    "**13:**     1172\n",
    "**12:**     1107\n",
    "**1:**      898\n",
    "\n",
    "`Hours_Worked_Per_Week:`\n",
    "**X:**    32851\n",
    "**3:**    18333\n",
    "**2:**     6518\n",
    "**4:**     3543\n",
    "**1:**     2143\n",
    "\n",
    "`Approximate_Social_Grade:`\n",
    "**2:**   15607\n",
    "**4:**    14709\n",
    "**X:**    12090\n",
    "**3:**    11602\n",
    "**1:**     9380"
   ]
  },
  {
   "cell_type": "markdown",
   "id": "a79955c0-57ed-4303-b06f-dfe4fa78020d",
   "metadata": {},
   "source": [
    "## Minimal requirements, build the following plots:"
   ]
  },
  {
   "cell_type": "markdown",
   "id": "b67050a7-cfda-453f-b202-953db0ea2a02",
   "metadata": {},
   "source": [
    "### Bar chart for the number of records for each age group\n",
    "The statement below applies to both bar graphs regarding age and occupation.\n",
    "\n",
    "Majority of the code below was my own, apart from the annotating bar graphs with the values assigned to the variables. This was also achieved by researching and looking at examples on [stackoverflow](https://stackoverflow.com/questions/25447700/annotate-bars-with-values-on-pandas-bar-plots)."
   ]
  },
  {
   "cell_type": "code",
   "execution_count": null,
   "id": "a30c2c19-6f12-4a7f-94cc-db061ecca2dd",
   "metadata": {},
   "outputs": [],
   "source": [
    "import matplotlib.pyplot as plt\n",
    "import pandas as pd\n",
    "\n",
    "# Import refined dataset for analysis\n",
    "data = pd.read_csv('../data/Refined_Scotland_teaching_file_1PCT.csv')\n",
    "df = pd.DataFrame(data)\n",
    "\n",
    "# format graph\n",
    "with plt.style.context('fivethirtyeight'):\n",
    "   ax = df['age'].value_counts().plot(kind='barh')\n",
    "plt.xlabel('age')\n",
    "plt.ylabel('Number of records')\n",
    "plt.title('Number of records in each age group: census 2011')\n",
    "\n",
    "# Annotate the bars in bar graph\n",
    "for p in ax.patches:\n",
    "    ax.annotate(str(p.get_width()), (p.get_x() + p.get_width(), p.get_y()), xytext=(5, 10), textcoords='offset points')\n",
    "    \n",
    "plt.show()"
   ]
  },
  {
   "cell_type": "markdown",
   "id": "50eb69e7-9320-45f2-be40-0f6cb0fb12d6",
   "metadata": {},
   "source": [
    "### Bar chart for the number of records for each occupation"
   ]
  },
  {
   "cell_type": "code",
   "execution_count": null,
   "id": "41025ae2-5a64-4d50-a0d0-2512ec7be673",
   "metadata": {},
   "outputs": [],
   "source": [
    "import matplotlib.pyplot as plt\n",
    "import pandas as pd\n",
    "\n",
    "# Import refined dataset for analysis\n",
    "data = pd.read_csv('../data/Refined_Scotland_teaching_file_1PCT.csv')\n",
    "df = pd.DataFrame(data)\n",
    "\n",
    "# format graph\n",
    "with plt.style.context('fivethirtyeight'):\n",
    "    ax = df['Occupation'].value_counts().plot(kind='barh')\n",
    "plt.xlabel('Occupation')\n",
    "plt.ylabel('Number of records')\n",
    "plt.title('Number of records in each occupation: census 2011')\n",
    "\n",
    "# Annotate the bars in bar graph\n",
    "for p in ax.patches:\n",
    "    ax.annotate(str(p.get_width()), (p.get_x() + p.get_width(), p.get_y()), xytext=(5, 10), textcoords='offset points')\n",
    "    \n",
    "plt.show()"
   ]
  },
  {
   "cell_type": "markdown",
   "id": "5fc8eddf-af95-475c-8343-aafeed9863da",
   "metadata": {},
   "source": [
    "## Additional Requirements\n",
    "I used the link from the assignment pdf for the [Matplotlib library](http://matplotlib.org/), to help gain insight and improve my data visulisation abilities."
   ]
  },
  {
   "cell_type": "markdown",
   "id": "7a5e1a4c-2899-4ea2-a685-99041d820a0e",
   "metadata": {},
   "source": [
    "###  Pie chart for the percentage of records for each general health descriptor"
   ]
  },
  {
   "cell_type": "code",
   "execution_count": null,
   "id": "39ebfbb9-70a4-40fa-bde9-3e8d63194ca8",
   "metadata": {},
   "outputs": [],
   "source": [
    "import matplotlib.pyplot as plt\n",
    "import pandas as pd\n",
    "\n",
    "# Import refined dataset for analysis\n",
    "data = pd.read_csv('../data/Refined_Scotland_teaching_file_1PCT.csv')\n",
    "df = pd.DataFrame(data)\n",
    "\n",
    "# Create and format pie chart\n",
    "with plt.style.context('fivethirtyeight'):\n",
    "    plt.figure(figsize=(8,8))\n",
    "df['health'].value_counts().plot(kind='pie', autopct='%1.2f%%')\n",
    "\n",
    "plt.title('The percentage of records for each general health descriptor')\n",
    "# y label = \"\" to remove count from the y axis\n",
    "plt.ylabel(\"\")\n",
    "plt.legend()\n",
    "\n",
    "plt.show()"
   ]
  },
  {
   "cell_type": "markdown",
   "id": "64ee8d4a-9b4d-470c-bed7-3079136a38cc",
   "metadata": {},
   "source": [
    "### Pie chart for the percentage of records for each ethnic group\n",
    "By using the [matplotlib](https://matplotlib.org/stable/gallery/pie_and_polar_charts/pie_and_donut_labels.html) link provided in the final assignment documentation, I was able to research how to code labels on the diagram as the values were overlapping making them unreadable. I sourced the code from the embedded hyperlink and manipulated it so that it supported my data visualisation."
   ]
  },
  {
   "cell_type": "code",
   "execution_count": null,
   "id": "77980f8c-41aa-4d66-b421-f456ac215126",
   "metadata": {},
   "outputs": [],
   "source": [
    "import matplotlib.pyplot as plt\n",
    "import pandas as pd\n",
    "import numpy as np\n",
    "\n",
    "# Import refined dataset for analysis\n",
    "data = pd.read_csv('../data/Refined_Scotland_teaching_file_1PCT.csv')\n",
    "\n",
    "# Create the pie chart\n",
    "plt.figure(figsize=(6, 8))\n",
    "wedges, _ = plt.pie(data['Ethnic_Group'].value_counts(), wedgeprops=dict(width=0.5), startangle=-40)\n",
    "\n",
    "# Annotate wedges with percentages\n",
    "for i, p in enumerate(wedges):\n",
    "    ang = (p.theta2 - p.theta1) / 2. + p.theta1\n",
    "    y = np.sin(np.deg2rad(ang))\n",
    "    x = np.cos(np.deg2rad(ang))\n",
    "    horizontalalignment = {-1: \"right\", 1: \"left\"}[int(np.sign(x))]\n",
    "    plt.annotate(f'{i + 1} ({100 * data[\"Ethnic_Group\"].value_counts(normalize=True).values[i]:.2f}%)',\n",
    "                 xy=(x, y), xytext=(1.35 * np.sign(x), 1.5 * y + i * 0.05),\n",
    "                 horizontalalignment=horizontalalignment, arrowprops=dict(arrowstyle=\"-\"))\n",
    "\n",
    "# Add legend and title\n",
    "plt.legend(data['Ethnic_Group'].unique(), title=\"Ethnic Group\", loc=\"center left\", bbox_to_anchor=(1, 0, 0.5, 1))\n",
    "plt.title('Percentage of records for each general health descriptor')\n",
    "\n",
    "plt.show()"
   ]
  }
 ],
 "metadata": {
  "kernelspec": {
   "display_name": "Python 3 (ipykernel)",
   "language": "python",
   "name": "python3"
  },
  "language_info": {
   "codemirror_mode": {
    "name": "ipython",
    "version": 3
   },
   "file_extension": ".py",
   "mimetype": "text/x-python",
   "name": "python",
   "nbconvert_exporter": "python",
   "pygments_lexer": "ipython3",
   "version": "3.12.3"
  }
 },
 "nbformat": 4,
 "nbformat_minor": 5
}
