{
 "cells": [
  {
   "cell_type": "markdown",
   "id": "super-suspension",
   "metadata": {},
   "source": [
    "# Python for data analysis and visualisation\n",
    "\n",
    "## Online short course at the University of St Andrews\n",
    "\n",
    "## Final assignment\n",
    "\n",
    "### [Ryan Stuart]"
   ]
  },
  {
   "cell_type": "code",
   "execution_count": null,
   "id": "beautiful-hormone",
   "metadata": {},
   "outputs": [],
   "source": [
    "import pandas as pd"
   ]
  },
  {
   "cell_type": "markdown",
   "id": "nominated-keeping",
   "metadata": {},
   "source": [
    "We start with exploring the content of the dataset."
   ]
  },
  {
   "cell_type": "code",
   "execution_count": null,
   "id": "extra-carry",
   "metadata": {},
   "outputs": [],
   "source": [
    "df = pd.read_csv(\"../data/Scotland_teaching_file_1PCT.csv\")"
   ]
  },
  {
   "cell_type": "code",
   "execution_count": null,
   "id": "0c57ed03-2f8a-48f4-87db-c3d15896a9b4",
   "metadata": {},
   "outputs": [],
   "source": [
    "df"
   ]
  },
  {
   "cell_type": "code",
   "execution_count": null,
   "id": "c6b79c46-bfcd-4ae9-8856-18040d9b4a78",
   "metadata": {},
   "outputs": [],
   "source": [
    "print(df[\"RESIDENCE_TYPE\"].value_counts())\n",
    "print(df[\"Family_Composition\"].value_counts())\n",
    "print(df[\"sex\"].value_counts())\n",
    "print(df[\"age\"].value_counts())\n",
    "print(df[\"Marital_Status\"].value_counts())\n",
    "print(df[\"student\"].value_counts())\n",
    "print(df[\"Country_Of_Birth\"].value_counts())\n",
    "print(df[\"health\"].value_counts())\n",
    "print(df[\"Ethnic_Group\"].value_counts())\n",
    "print(df[\"religion\"].value_counts())\n",
    "print(df[\"Economic_Activity\"].value_counts())\n",
    "print(df[\"Occupation\"].value_counts())\n",
    "print(df[\"industry\"].value_counts())\n",
    "print(df[\"Hours_Worked_Per_Week\"].value_counts())\n",
    "print(df[\"Approximate_Social_Grade\"].value_counts())"
   ]
  },
  {
   "cell_type": "code",
   "execution_count": null,
   "id": "3bf550f0-e0d4-4f73-acb5-937f70f9506d",
   "metadata": {},
   "outputs": [],
   "source": [
    "refined_data_df = check_values_of_variables_are_admissible(df)\n",
    "refined_data_df.to_csv(\"../data/Refined_Scotland_teaching_file_1PCT.csv\", index=False)"
   ]
  },
  {
   "cell_type": "markdown",
   "id": "07a6660d-6c84-49d5-927c-a093fb3f1c98",
   "metadata": {},
   "source": [
    "### perform the descriptive analysis of the dataset:\n",
    "\n",
    "- the total number of records in the refined dataset are: 28552\n",
    "- All the different values for each variable and their occurence in the refined dataset are:\n",
    "\n",
    "`RESIDENCE_TYPE:` \n",
    "**P:**    27999\n",
    "**C:**      553\n",
    "\n",
    "`Family_Composition:`\n",
    "**1:**    14910\n",
    "**4:**     4997\n",
    "**0:**     3953\n",
    "**2:**     3402\n",
    "**X:**      553\n",
    "**3:**      425\n",
    "**5:**      312\n",
    "\n",
    "`sex:`\n",
    "**2:**    17524\n",
    "**1:**    11028\n",
    "\n",
    "`age:`\n",
    "**1:**    10980\n",
    "**2:**     3197\n",
    "**5:**     3112\n",
    "**4:**     2782\n",
    "**6:**     2618\n",
    "**3:**     2415\n",
    "**7:**     1850\n",
    "**8:**     1598\n",
    "\n",
    "`Marital_Status:`\n",
    "**1:**    17654\n",
    "**2:**     7530\n",
    "**5:**     1479\n",
    "**4:**     1345\n",
    "**3:**      544\n",
    "\n",
    "`student:`\n",
    "**2:**    18587\n",
    "**1:**     9965\n",
    "\n",
    "`Country_Of_Birth:`\n",
    "**1:**    26612\n",
    "**2:**    1940\n",
    "\n",
    "`health:`\n",
    "**1:**    17596\n",
    "**2:**     7076\n",
    "**3:**     2648\n",
    "**4:**     944\n",
    "**5:**      288\n",
    "\n",
    "`Ethnic_Group:`\n",
    "**1:**    27088\n",
    "**3:**      935\n",
    "**4:**      228\n",
    "**2:**      144\n",
    "**6:**      105\n",
    "**5:**       52\n",
    "\n",
    "`religion:`\n",
    "**2:**    14599\n",
    "**1:**    11068\n",
    "**9:**     2037\n",
    "**6:**      546\n",
    "**4:**      107\n",
    "**8:**       72\n",
    "**3:**       56\n",
    "**7:**       43\n",
    "**5:**       24\n",
    "\n",
    "`Economic_Activity:`\n",
    "**X:**    10980\n",
    "**1:**     7628\n",
    "**5:**     3731\n",
    "**6:**     1840\n",
    "**2:**     1047\n",
    "**8:**     1010\n",
    "**7:**      716\n",
    "**3:**      655\n",
    "**4:**      523\n",
    "**9:**      422\n",
    "\n",
    "`Occupation:`\n",
    "**X:**    14435\n",
    "**2:**     4412\n",
    "**6:**     3766\n",
    "**9:**     1585\n",
    "**4:**     1432\n",
    "**3:**    1227\n",
    "**5:**      775\n",
    "**1:**      543\n",
    "**8:**      243\n",
    "**7:**      134\n",
    "\n",
    "`industry:`\n",
    "**X:**     14435\n",
    "**11:**     6817\n",
    "**10:**     4123\n",
    "**13:**     1172\n",
    "**12:**     1107\n",
    "**1:**       898\n",
    "\n",
    "`Hours_Worked_Per_Week:`\n",
    "**X:**    19533\n",
    "**3:**     4875\n",
    "**2:**    2636\n",
    "**4:**      812\n",
    "**1:**      696\n",
    "\n",
    "`Approximate_Social_Grade:`\n",
    "**X:**    11494\n",
    "**2:**     4942\n",
    "**4:**     4848\n",
    "**1:**     3976"
   ]
  },
  {
   "cell_type": "code",
   "execution_count": null,
   "id": "8598663d-af55-4782-a540-77ccbe5a5c55",
   "metadata": {},
   "outputs": [],
   "source": [
    "import numpy as np\n",
    "import pandas as pd\n",
    "import matplotlib.pyplot as plt\n",
    "df = pd.read_csv('../data/Refined_Scotland_teaching_file_1PCT.csv')"
   ]
  },
  {
   "cell_type": "code",
   "execution_count": null,
   "id": "ced72db2-42ba-4718-add7-6e867f1d4b7f",
   "metadata": {},
   "outputs": [],
   "source": [
    "df"
   ]
  },
  {
   "cell_type": "code",
   "execution_count": null,
   "id": "afc651c8-098b-412f-a80c-2c2b95db5be1",
   "metadata": {},
   "outputs": [],
   "source": [
    "df[\"Record_Number\"].value_counts()"
   ]
  },
  {
   "cell_type": "code",
   "execution_count": null,
   "id": "04b1c1d7-7503-48a6-97a2-11d5702cab62",
   "metadata": {
    "scrolled": true
   },
   "outputs": [],
   "source": [
    "print(df[\"RESIDENCE_TYPE\"].value_counts())\n",
    "print(df[\"Family_Composition\"].value_counts())\n",
    "print(df[\"sex\"].value_counts())\n",
    "print(df[\"age\"].value_counts())\n",
    "print(df[\"Marital_Status\"].value_counts())\n",
    "print(df[\"student\"].value_counts())\n",
    "print(df[\"Country_Of_Birth\"].value_counts())\n",
    "print(df[\"health\"].value_counts())\n",
    "print(df[\"Ethnic_Group\"].value_counts())\n",
    "print(df[\"religion\"].value_counts())\n",
    "print(df[\"Economic_Activity\"].value_counts())\n",
    "print(df[\"Occupation\"].value_counts())\n",
    "print(df[\"industry\"].value_counts())\n",
    "print(df[\"Hours_Worked_Per_Week\"].value_counts())\n",
    "print(df[\"Approximate_Social_Grade\"].value_counts())"
   ]
  },
  {
   "cell_type": "code",
   "execution_count": null,
   "id": "4f0ab7dd-4dd5-4fca-bcf7-334c1c80f147",
   "metadata": {},
   "outputs": [],
   "source": [
    "print(df.dtypes)"
   ]
  },
  {
   "cell_type": "markdown",
   "id": "a79955c0-57ed-4303-b06f-dfe4fa78020d",
   "metadata": {},
   "source": [
    "## build the following plots:\n",
    "– bar chart for the number of records for each age group\n",
    "\n",
    "– bar chart for the number of records for each occupation"
   ]
  },
  {
   "cell_type": "code",
   "execution_count": null,
   "id": "a30c2c19-6f12-4a7f-94cc-db061ecca2dd",
   "metadata": {},
   "outputs": [],
   "source": []
  }
 ],
 "metadata": {
  "kernelspec": {
   "display_name": "Python 3 (ipykernel)",
   "language": "python",
   "name": "python3"
  },
  "language_info": {
   "codemirror_mode": {
    "name": "ipython",
    "version": 3
   },
   "file_extension": ".py",
   "mimetype": "text/x-python",
   "name": "python",
   "nbconvert_exporter": "python",
   "pygments_lexer": "ipython3",
   "version": "3.12.3"
  }
 },
 "nbformat": 4,
 "nbformat_minor": 5
}
